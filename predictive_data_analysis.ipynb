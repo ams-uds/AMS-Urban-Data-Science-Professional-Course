{
 "cells": [
  {
   "cell_type": "markdown",
   "metadata": {},
   "source": [
    "In this hands-on we will use the task2_data.csv (in the Library folder). This is the dataset that we used for investigating what makes a tweet relevant to a given topic.  Each instance (= each line in the data file) in this dataset lists the 25 features (25 columns) and the relevance judgement (the last field) for a (tweet, topic)-pair. You are encouraged to visualize and test more features."
   ]
  },
  {
   "cell_type": "markdown",
   "metadata": {},
   "source": [
    "### Calculating the P-value"
   ]
  },
  {
   "cell_type": "code",
   "execution_count": 1,
   "metadata": {},
   "outputs": [
    {
     "name": "stdout",
     "output_type": "stream",
     "text": [
      "4.3250573436513435e-180\n"
     ]
    }
   ],
   "source": [
    "import pandas as pd\n",
    "from scipy.stats import mannwhitneyu, ttest_ind\n",
    "path='task2_data.csv'\n",
    "df = pd.read_csv(path)\n",
    "\n",
    "\n",
    "nr_entities_relevant = df[df['relevanceJudge'] == 1]['hasURL']\n",
    "nr_entities_non_relevant = df[df['relevanceJudge'] == 0]['hasURL']\n",
    "\n",
    "u, p_value = mannwhitneyu(nr_entities_non_relevant, nr_entities_relevant)\n",
    "#u, p_value= ttest_ind(nr_entities_non_relevant, nr_entities_relevant)\n",
    "print(p_value)"
   ]
  },
  {
   "cell_type": "markdown",
   "metadata": {},
   "source": [
    "### Descriptive statistics"
   ]
  },
  {
   "cell_type": "markdown",
   "metadata": {},
   "source": [
    "In this part you will obtain the descriptive statistics of the selected feature (e.g. hasURL)"
   ]
  },
  {
   "cell_type": "code",
   "execution_count": 2,
   "metadata": {},
   "outputs": [
    {
     "name": "stdout",
     "output_type": "stream",
     "text": [
      "count    2817.000000\n",
      "mean        0.818956\n",
      "std         0.385123\n",
      "min         0.000000\n",
      "25%         1.000000\n",
      "50%         1.000000\n",
      "75%         1.000000\n",
      "max         1.000000\n",
      "Name: hasURL, dtype: float64\n",
      "count    37138.000000\n",
      "mean         0.541682\n",
      "std          0.498266\n",
      "min          0.000000\n",
      "25%          0.000000\n",
      "50%          1.000000\n",
      "75%          1.000000\n",
      "max          1.000000\n",
      "Name: hasURL, dtype: float64\n"
     ]
    }
   ],
   "source": [
    "print(nr_entities_relevant.describe())\n",
    "print(nr_entities_non_relevant.describe())"
   ]
  },
  {
   "cell_type": "markdown",
   "metadata": {},
   "source": [
    "### Visualization "
   ]
  },
  {
   "cell_type": "markdown",
   "metadata": {},
   "source": [
    "Try to visualize the different features."
   ]
  },
  {
   "cell_type": "code",
   "execution_count": 3,
   "metadata": {},
   "outputs": [
    {
     "data": {
      "image/png": "[encoded data removed]",
      "text/plain": [
       "<Figure size 432x288 with 1 Axes>"
      ]
     },
     "metadata": {
      "needs_background": "light"
     },
     "output_type": "display_data"
    }
   ],
   "source": [
    "%matplotlib inline\n",
    "\n",
    "import matplotlib\n",
    "import matplotlib.pyplot as plt\n",
    "\n",
    "nr_entities = df['#entities']\n",
    "nr_entities.plot(kind='hist')\n",
    "plt.show()"
   ]
  },
  {
   "cell_type": "markdown",
   "metadata": {},
   "source": [
    "Another example of visualization. For relevant tweets, we show the number of tweets with URL (i.e. 1), and without URL (i.e. 0)"
   ]
  },
  {
   "cell_type": "code",
   "execution_count": null,
   "metadata": {},
   "outputs": [],
   "source": [
    "%matplotlib inline\n",
    "\n",
    "import matplotlib\n",
    "import numpy as np\n",
    "import matplotlib.pyplot as plt\n",
    "\n",
    "relevant_entities = df[df['relevanceJudge'] == 1]['hasURL']\n",
    "\n",
    "relevant_entities.plot(kind='hist')\n",
    "plt.show()"
   ]
  },
  {
   "cell_type": "markdown",
   "metadata": {
    "collapsed": true
   },
   "source": [
    "## Predictive Model"
   ]
  },
  {
   "cell_type": "code",
   "execution_count": 1,
   "metadata": {},
   "outputs": [],
   "source": [
    "import functools\n",
    "import io\n",
    "import numpy as np\n",
    "import sys\n",
    "\n",
    "genfromtxt_old = np.genfromtxt\n",
    "@functools.wraps(genfromtxt_old)\n",
    "def genfromtxt_py3_fixed(f, encoding=\"utf-8\", *args, **kwargs):\n",
    "  if isinstance(f, io.TextIOBase):\n",
    "    if hasattr(f, \"buffer\") and hasattr(f.buffer, \"raw\") and \\\n",
    "    isinstance(f.buffer.raw, io.FileIO):\n",
    "      # Best case: get underlying FileIO stream (binary!) and use that\n",
    "      fb = f.buffer.raw\n",
    "      # Reset cursor on the underlying object to match that on wrapper\n",
    "      fb.seek(f.tell())\n",
    "      result = genfromtxt_old(fb, *args, **kwargs)\n",
    "      # Reset cursor on wrapper to match that of the underlying object\n",
    "      f.seek(fb.tell())\n",
    "    else:\n",
    "      # Not very good but works: Put entire contents into BytesIO object,\n",
    "      # otherwise same ideas as above\n",
    "      old_cursor_pos = f.tell()\n",
    "      fb = io.BytesIO(bytes(f.read(), encoding=encoding))\n",
    "      result = genfromtxt_old(fb, *args, **kwargs)\n",
    "      f.seek(old_cursor_pos + fb.tell())\n",
    "  else:\n",
    "    result = genfromtxt_old(f, *args, **kwargs)\n",
    "  return result"
   ]
  },
  {
   "cell_type": "markdown",
   "metadata": {},
   "source": [
    "## Logistic Regression"
   ]
  },
  {
   "cell_type": "code",
   "execution_count": 2,
   "metadata": {},
   "outputs": [
    {
     "name": "stderr",
     "output_type": "stream",
     "text": [
      "/opt/conda/lib/python3.7/site-packages/sklearn/linear_model/logistic.py:433: FutureWarning: Default solver will be changed to 'lbfgs' in 0.22. Specify a solver to silence this warning.\n",
      "  FutureWarning)\n"
     ]
    },
    {
     "name": "stdout",
     "output_type": "stream",
     "text": [
      "[[ 1.30792971e-01  1.37686592e-01  4.48549549e-03  9.18164668e-02\n",
      "  -2.88845080e-02  3.58387054e-03 -1.81378827e-02  6.94253353e-03\n",
      "   4.87329493e-02  2.95047278e-02  7.40950719e-02  2.74937187e-02\n",
      "   1.18857311e-02 -2.30031691e-02 -2.05255801e-03 -1.88437865e-03\n",
      "   1.06431398e-02 -4.14655858e-06  1.32636318e-05 -4.85486483e-07\n",
      "   1.75548519e-04  1.60141006e-03  6.07885975e-04  5.32833798e-02\n",
      "   4.25401753e-07]]\n",
      "F-score:  1.0\n",
      "Recall:  0.0016750418760469012\n",
      "Fscore:  0.0033444816053511705\n"
     ]
    }
   ],
   "source": [
    "from sklearn.metrics import precision_score,recall_score,f1_score\n",
    "from sklearn.model_selection import train_test_split\n",
    "from sklearn.linear_model import LogisticRegression\n",
    "import numpy as np\n",
    "def train_logistic_regression(path):\n",
    "\n",
    "    dataset=genfromtxt_py3_fixed(open(path,'r'), delimiter=',', skip_header=1)\n",
    "\n",
    "    trainData = np.array([x[:-1] for x in dataset])\n",
    "    labelData=np.array([x[-1] for x in dataset])\n",
    "    X_train, X_test, y_train, y_test = train_test_split(trainData, labelData, test_size=0.20,random_state=10)\n",
    "    clf = LogisticRegression()\n",
    "    clf.fit(X_train, y_train)\n",
    "\n",
    "    print(clf.coef_)\n",
    "\n",
    "\n",
    "    y_pred = clf.predict(X_test)\n",
    "\n",
    "    print('F-score: ',precision_score(y_test, y_pred))\n",
    "    print('Recall: ',recall_score(y_test,y_pred))\n",
    "    print('Fscore: ',f1_score(y_test,y_pred))\n",
    "\n",
    "train_logistic_regression('task2_data.csv')\n"
   ]
  },
  {
   "cell_type": "markdown",
   "metadata": {},
   "source": [
    "## Random Forest"
   ]
  },
  {
   "cell_type": "code",
   "execution_count": 3,
   "metadata": {},
   "outputs": [
    {
     "name": "stdout",
     "output_type": "stream",
     "text": [
      "Precision:  0.8020477815699659\n",
      "Recall:  0.16387726638772665\n",
      "F-Score:  0.2721482339316734\n"
     ]
    }
   ],
   "source": [
    "from sklearn.ensemble import RandomForestClassifier\n",
    "def train_random_forest(path):\n",
    "    dataset=genfromtxt_py3_fixed(open(path,'r'), delimiter=',', skip_header=1)\n",
    "\n",
    "    trainData = np.array([x[:-1] for x in dataset])\n",
    "    labelData=np.array([x[-1] for x in dataset])\n",
    "    X_train, X_test, y_train, y_test = train_test_split(trainData, labelData, test_size=0.50,random_state=10)\n",
    "    clf = RandomForestClassifier(max_depth=10, n_estimators=100)\n",
    "    clf.fit(X_train, y_train)\n",
    "    y_pred = clf.predict(X_test)\n",
    "\n",
    "    print('Precision: ',precision_score(y_test, y_pred))\n",
    "    print('Recall: ',recall_score(y_test,y_pred))\n",
    "    print('F-Score: ',f1_score(y_test,y_pred))\n",
    "    \n",
    "train_random_forest('task2_data.csv')"
   ]
  },
  {
   "cell_type": "markdown",
   "metadata": {},
   "source": [
    "# Assignment"
   ]
  },
  {
   "cell_type": "raw",
   "metadata": {},
   "source": [
    "In this part of the tutorail we want to read the SAIL dataset and enrich it with some additional features such as hasUrl, length, hasHashtag and its sentiment polarity. Since we dont have the real labels for each tweet for now, we randomly assign a lable to each tweet (i.e. 0 or 1 which will be added to the last column of our file) and train a logistic regression. "
   ]
  },
  {
   "cell_type": "code",
   "execution_count": 4,
   "metadata": {},
   "outputs": [],
   "source": [
    "import re\n",
    "def hasUrl(string): \n",
    "\n",
    "    url = re.findall('http[s]?://(?:[a-zA-Z]|[0-9]|[$-_@.&+] |[!*\\(\\), ]|(?:%[0-9a-fA-F][0-9a-fA-F]))+', string) \n",
    "    return url "
   ]
  },
  {
   "cell_type": "code",
   "execution_count": 5,
   "metadata": {},
   "outputs": [],
   "source": [
    "from vaderSentiment.vaderSentiment import SentimentIntensityAnalyzer\n",
    "analyser = SentimentIntensityAnalyzer()\n",
    "def sentiment_analyzer_scores(sentence):\n",
    "    score = analyser.polarity_scores(sentence)\n",
    "    return score['neg'],score['neu'],score['pos']"
   ]
  },
  {
   "cell_type": "code",
   "execution_count": 6,
   "metadata": {},
   "outputs": [
    {
     "name": "stdout",
     "output_type": "stream",
     "text": [
      "Training logistic regression...\n"
     ]
    },
    {
     "name": "stderr",
     "output_type": "stream",
     "text": [
      "/opt/conda/lib/python3.7/site-packages/sklearn/linear_model/logistic.py:433: FutureWarning: Default solver will be changed to 'lbfgs' in 0.22. Specify a solver to silence this warning.\n",
      "  FutureWarning)\n"
     ]
    },
    {
     "name": "stdout",
     "output_type": "stream",
     "text": [
      "[[ 9.43938125e-05  1.78631957e-01 -5.01226417e-03 -5.00017655e-01\n",
      "   1.02821445e-02 -2.98420694e-02]]\n",
      "F-score:  0.5034526051475204\n",
      "Recall:  0.8044132397191575\n",
      "Fscore:  0.6193050193050192\n",
      "Training random forest...\n",
      "Precision:  0.5018175209014903\n",
      "Recall:  0.549562101910828\n",
      "F-Score:  0.5246057381721451\n"
     ]
    }
   ],
   "source": [
    "import csv\n",
    "import random\n",
    "\n",
    "newfile_path='SAIL_subset_enriched.csv'\n",
    "enriched_file=open(newfile_path,'w')\n",
    "with open('SAIL_subset.csv') as csv_file:\n",
    "    csv_reader = csv.reader(csv_file, delimiter=',')\n",
    "    \n",
    "    #skip first line\n",
    "    next(csv_reader)\n",
    "  \n",
    "    for row in csv_reader:\n",
    "        if hasUrl(row[5])==[]:\n",
    "              #no url in text\n",
    "              url_feature=0\n",
    "        else:\n",
    "            #text contains an url\n",
    "            url_feature=1\n",
    "        if row[8]==[]:\n",
    "              #no hashtag in text\n",
    "              hashtag_feature=0\n",
    "        else:\n",
    "            #text contains a hashtag\n",
    "            hashtag_feature=1\n",
    "            \n",
    "        length_feature=len(row[5])\n",
    "        negative_sentiment,neutral_sentiment,positive_sentiment=sentiment_analyzer_scores(row[5])\n",
    "        enriched_file.write(str(length_feature)+','+str(url_feature)+','+str(hashtag_feature)+','+str(negative_sentiment)+','+str(neutral_sentiment)+','+str(positive_sentiment)+','+str(random.randint(0, 1))+'\\n')\n",
    "                            \n",
    "enriched_file.close()\n",
    "print('Training logistic regression...')\n",
    "train_logistic_regression(newfile_path)\n",
    "print('Training random forest...')\n",
    "train_random_forest(newfile_path)"
   ]
  },
  {
   "cell_type": "code",
   "execution_count": null,
   "metadata": {},
   "outputs": [],
   "source": []
  }
 ],
 "metadata": {
  "kernelspec": {
   "display_name": "Python 3",
   "language": "python",
   "name": "python3"
  },
  "language_info": {
   "codemirror_mode": {
    "name": "ipython",
    "version": 3
   },
   "file_extension": ".py",
   "mimetype": "text/x-python",
   "name": "python",
   "nbconvert_exporter": "python",
   "pygments_lexer": "ipython3",
   "version": "3.7.3"
  }
 },
 "nbformat": 4,
 "nbformat_minor": 2
}
