{
 "cells": [
  {
   "cell_type": "code",
   "execution_count": 2,
   "metadata": {},
   "outputs": [],
   "source": [
    "from pymongo import MongoClient\n",
    "from bson.objectid import ObjectId\n"
   ]
  },
  {
   "cell_type": "code",
   "execution_count": 3,
   "metadata": {},
   "outputs": [],
   "source": [
    "HOST = \"localhost\"\n",
    "PORT = 27017\n",
    "DB = \"twitter_dutch\"\n",
    "COLLECTION = \"tweet\"\n"
   ]
  },
  {
   "cell_type": "code",
   "execution_count": 4,
   "metadata": {},
   "outputs": [],
   "source": [
    "client = MongoClient(HOST, PORT)\n",
    "db = client[DB]"
   ]
  },
  {
   "cell_type": "markdown",
   "metadata": {},
   "source": [
    "### Retrieve all the tweets (actually the first 20..)"
   ]
  },
  {
   "cell_type": "code",
   "execution_count": 54,
   "metadata": {},
   "outputs": [],
   "source": [
    "tweets = list(db[COLLECTION].find().limit(20))"
   ]
  },
  {
   "cell_type": "markdown",
   "metadata": {},
   "source": [
    "### Query the database with a filter"
   ]
  },
  {
   "cell_type": "code",
   "execution_count": 5,
   "metadata": {},
   "outputs": [],
   "source": [
    "tweets = list(db[COLLECTION].find({\n",
    "    \"lang\":\"en\",\n",
    "    \"geo\":{\n",
    "        \"$ne\":None\n",
    "    }\n",
    "}))"
   ]
  },
  {
   "cell_type": "markdown",
   "metadata": {},
   "source": [
    "### Adding an additional field"
   ]
  },
  {
   "cell_type": "code",
   "execution_count": 6,
   "metadata": {},
   "outputs": [],
   "source": [
    "# Add text length\n",
    "for tweet in tweets:\n",
    "    str_length = len(tweet[\"text\"])\n",
    "    tweet[\"length\"] = str_length"
   ]
  },
  {
   "cell_type": "code",
   "execution_count": 7,
   "metadata": {},
   "outputs": [],
   "source": [
    "from nltk.tokenize import word_tokenize\n",
    "\n",
    "# Add numbers of word\n",
    "for tweet in tweets:\n",
    "    words = word_tokenize(tweet[\"text\"])\n",
    "    word_number = len(words)\n",
    "    tweet[\"word_number\"] = word_number"
   ]
  },
  {
   "cell_type": "code",
   "execution_count": 9,
   "metadata": {},
   "outputs": [],
   "source": [
    "# hasUrl?\n",
    "import re\n",
    "for tweet in tweets:\n",
    "    \n",
    "    url = re.findall('http[s]?://(?:[a-zA-Z]|[0-9]|[$-_@.&+] |[!*\\(\\), ]|(?:%[0-9a-fA-F][0-9a-fA-F]))+', tweet[\"text\"]) \n",
    "    \n",
    "    hasUrl = False\n",
    "    if len(url)>0:\n",
    "        hasUrl = True\n",
    "    \n",
    "    tweet[\"hasUrl\"] = hasUrl\n"
   ]
  },
  {
   "cell_type": "code",
   "execution_count": 20,
   "metadata": {},
   "outputs": [
    {
     "name": "stdout",
     "output_type": "stream",
     "text": [
      "Requirement already satisfied: shapely in ./.plts/lib/python3.7/site-packages (1.6.4.post2)\n",
      "\u001b[33mYou are using pip version 19.0.3, however version 19.1.1 is available.\n",
      "You should consider upgrading via the 'pip install --upgrade pip' command.\u001b[0m\n"
     ]
    }
   ],
   "source": [
    "!pip install shapely"
   ]
  },
  {
   "cell_type": "code",
   "execution_count": 24,
   "metadata": {},
   "outputs": [],
   "source": [
    "import json\n",
    "\n",
    "with open(\"amsterdam-geojson.json\") as f:\n",
    "    features = json.load(f)[\"features\"]\n",
    "\n",
    "    "
   ]
  },
  {
   "cell_type": "code",
   "execution_count": 17,
   "metadata": {},
   "outputs": [],
   "source": [
    "# Name of the area\n",
    "\n",
    "from shapely.geometry import shape, Point\n",
    "\n",
    "\n",
    "    \n",
    " \n",
    "def find_location(tweet):\n",
    "\n",
    "    # If the tweet does not have any geolocation information, simplu return the tweet\n",
    "    if tweet[\"geo\"] is None and tweet[\"place\"] is None:\n",
    "        return tweet\n",
    "\n",
    "    # If the tweet has the coordinates, create a Point object\n",
    "    point = None\n",
    "    if tweet[\"geo\"] is not None:\n",
    "        point = Point(tweet[\"geo\"][\"coordinates\"][1], tweet[\"geo\"][\"coordinates\"][0])\n",
    "\n",
    "    for a in features:\n",
    "        area = shape(a[\"geometry\"])\n",
    "\n",
    "        # Assigning the area name if (1) the point is within the area or (2) the area name is the same \n",
    "        #as the one in the twitter data\n",
    "\n",
    "        if (point is not None and area.contains(point)) or a[\"properties\"][\"name\"] == tweet[\"place\"][\"name\"]:\n",
    "            return a[\"properties\"][\"name\"]\n",
    "\n",
    "    return None\n"
   ]
  },
  {
   "cell_type": "code",
   "execution_count": 18,
   "metadata": {},
   "outputs": [],
   "source": [
    "for tweet in tweets:\n",
    "    area_name = find_location(tweet)\n",
    "    tweet[\"area_name\"] = area_name"
   ]
  },
  {
   "cell_type": "markdown",
   "metadata": {},
   "source": [
    "### Export to csv"
   ]
  },
  {
   "cell_type": "code",
   "execution_count": 19,
   "metadata": {},
   "outputs": [],
   "source": [
    "import csv\n",
    "\n",
    "with open(\"enriched_tweets.csv\", 'w', newline='') as csvfile:\n",
    "    writer = csv.writer(csvfile)\n",
    "\n",
    "    for row in tweets[:10]:\n",
    "        targetrow = []\n",
    "        \n",
    "        targetrow.append(row[\"text\"])\n",
    "        targetrow.append(row[\"user\"])\n",
    "        targetrow.append(row[\"length\"])\n",
    "        targetrow.append(row[\"word_number\"])\n",
    "        targetrow.append(row[\"hasUrl\"])\n",
    "        targetrow.append(row[\"area_name\"])\n",
    "        targetrow.append(row[\"geo\"][\"coordinates\"][0])\n",
    "        targetrow.append(row[\"geo\"][\"coordinates\"][1])\n",
    "        \n",
    "        writer.writerow(targetrow)"
   ]
  },
  {
   "cell_type": "code",
   "execution_count": 15,
   "metadata": {},
   "outputs": [
    {
     "data": {
      "text/plain": [
       "{'_id': ObjectId('5a65bac7b986443b94e809c8'),\n",
       " 'created_at': 'Mon Jan 22 10:19:50 +0000 2018',\n",
       " 'text': 'Rumpi no secret💋 @ Amsterdam, Netherlands https://t.co/ybQlxBrYw8',\n",
       " 'source': '<a href=\"http://instagram.com\" rel=\"nofollow\">Instagram</a>',\n",
       " 'truncated': False,\n",
       " 'in_reply_to_status_id_str': None,\n",
       " 'in_reply_to_user_id': -9223372036573926637,\n",
       " 'in_reply_to_screen_name': None,\n",
       " 'user': -8556263967823196492,\n",
       " 'geo': {'type': 'Point', 'coordinates': [52.3731, 4.8922]},\n",
       " 'coordinates': {'type': 'Point', 'coordinates': [4.8922, 52.3731]},\n",
       " 'place': {'id': '99cdab25eddd6bce',\n",
       "  'url': 'https://api.twitter.com/1.1/geo/id/99cdab25eddd6bce.json',\n",
       "  'place_type': 'city',\n",
       "  'name': 'Amsterdam',\n",
       "  'full_name': 'Amsterdam, The Netherlands',\n",
       "  'country_code': 'NL',\n",
       "  'country': 'The Netherlands',\n",
       "  'bounding_box': {'type': 'Polygon',\n",
       "   'coordinates': [[[4.7289, 52.278227],\n",
       "     [4.7289, 52.431229],\n",
       "     [5.079207, 52.431229],\n",
       "     [5.079207, 52.278227]]]},\n",
       "  'attributes': {}},\n",
       " 'contributors': None,\n",
       " 'is_quote_status': False,\n",
       " 'quote_count': 0,\n",
       " 'reply_count': 0,\n",
       " 'retweet_count': 0,\n",
       " 'favorite_count': 0,\n",
       " 'favorited': False,\n",
       " 'retweeted': False,\n",
       " 'possibly_sensitive': False,\n",
       " 'filter_level': 'low',\n",
       " 'lang': 'en',\n",
       " 'timestamp_ms': '1516616390822',\n",
       " 'tokens': ['rumpi', 'secret', 'amsterdam', 'netherlands'],\n",
       " 'date': datetime.datetime(2018, 1, 22, 11, 19, 50),\n",
       " 'area_name': 'Burgwallen-Nieuwe Zijde',\n",
       " 'categories': [],\n",
       " 'length': 65,\n",
       " 'word_number': 10,\n",
       " 'hasUrl': True}"
      ]
     },
     "execution_count": 15,
     "metadata": {},
     "output_type": "execute_result"
    }
   ],
   "source": [
    "tweets[0]"
   ]
  },
  {
   "cell_type": "code",
   "execution_count": null,
   "metadata": {},
   "outputs": [],
   "source": []
  },
  {
   "cell_type": "code",
   "execution_count": null,
   "metadata": {},
   "outputs": [],
   "source": []
  },
  {
   "cell_type": "code",
   "execution_count": null,
   "metadata": {},
   "outputs": [],
   "source": []
  }
 ],
 "metadata": {
  "kernelspec": {
   "display_name": "Python 3",
   "language": "python",
   "name": "python3"
  },
  "language_info": {
   "codemirror_mode": {
    "name": "ipython",
    "version": 3
   },
   "file_extension": ".py",
   "mimetype": "text/x-python",
   "name": "python",
   "nbconvert_exporter": "python",
   "pygments_lexer": "ipython3",
   "version": "3.7.1"
  }
 },
 "nbformat": 4,
 "nbformat_minor": 2
}
